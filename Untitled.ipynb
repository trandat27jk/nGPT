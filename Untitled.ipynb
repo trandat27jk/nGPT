{
 "cells": [
  {
   "cell_type": "code",
   "execution_count": 23,
   "id": "48f671ed",
   "metadata": {},
   "outputs": [],
   "source": [
    "test=[1,2,4,5,6,6]\n",
    "import torch\n",
    "import torch.nn.functional as F"
   ]
  },
  {
   "cell_type": "code",
   "execution_count": 24,
   "id": "be3e4294",
   "metadata": {},
   "outputs": [],
   "source": [
    "test=torch.Tensor(test)"
   ]
  },
  {
   "cell_type": "code",
   "execution_count": 25,
   "id": "90a317e4",
   "metadata": {},
   "outputs": [],
   "source": [
    "test=test.chunk(3,dim=-1)"
   ]
  },
  {
   "cell_type": "code",
   "execution_count": 26,
   "id": "9121a868",
   "metadata": {},
   "outputs": [],
   "source": [
    "test=torch.stack(test)"
   ]
  },
  {
   "cell_type": "code",
   "execution_count": 27,
   "id": "97881982",
   "metadata": {},
   "outputs": [
    {
     "data": {
      "text/plain": [
       "torch.Size([3, 2])"
      ]
     },
     "execution_count": 27,
     "metadata": {},
     "output_type": "execute_result"
    }
   ],
   "source": [
    "test.shape"
   ]
  },
  {
   "cell_type": "code",
   "execution_count": 28,
   "id": "ae865a39",
   "metadata": {},
   "outputs": [
    {
     "data": {
      "text/plain": [
       "tensor([[0.4472, 0.8944],\n",
       "        [0.6247, 0.7809],\n",
       "        [0.7071, 0.7071]])"
      ]
     },
     "execution_count": 28,
     "metadata": {},
     "output_type": "execute_result"
    }
   ],
   "source": [
    "F.normalize(test,dim=-1,p=2,eps=1e-6)"
   ]
  },
  {
   "cell_type": "code",
   "execution_count": 29,
   "id": "a7f94b11",
   "metadata": {},
   "outputs": [
    {
     "data": {
      "text/plain": [
       "tensor([[1., 2.],\n",
       "        [4., 5.],\n",
       "        [6., 6.]])"
      ]
     },
     "execution_count": 29,
     "metadata": {},
     "output_type": "execute_result"
    }
   ],
   "source": [
    "test"
   ]
  },
  {
   "cell_type": "code",
   "execution_count": 30,
   "id": "45129e24",
   "metadata": {},
   "outputs": [],
   "source": [
    "norm=test.norm(dim=-1,keepdim=True)"
   ]
  },
  {
   "cell_type": "code",
   "execution_count": 31,
   "id": "b816ede5",
   "metadata": {},
   "outputs": [
    {
     "data": {
      "text/plain": [
       "tensor([[2.2361],\n",
       "        [6.4031],\n",
       "        [8.4853]])"
      ]
     },
     "execution_count": 31,
     "metadata": {},
     "output_type": "execute_result"
    }
   ],
   "source": [
    "norm"
   ]
  },
  {
   "cell_type": "code",
   "execution_count": 33,
   "id": "bc2ee761",
   "metadata": {},
   "outputs": [],
   "source": [
    "target_norm=norm.detach().clamp(min=1-1e-6,max=1+1e-6)"
   ]
  },
  {
   "cell_type": "code",
   "execution_count": 35,
   "id": "4404f2ca",
   "metadata": {},
   "outputs": [],
   "source": [
    "divisor=norm/target_norm"
   ]
  },
  {
   "cell_type": "code",
   "execution_count": 36,
   "id": "d4482cae",
   "metadata": {},
   "outputs": [
    {
     "data": {
      "text/plain": [
       "tensor([[2.2361],\n",
       "        [6.4031],\n",
       "        [8.4853]])"
      ]
     },
     "execution_count": 36,
     "metadata": {},
     "output_type": "execute_result"
    }
   ],
   "source": [
    "divisor"
   ]
  },
  {
   "cell_type": "code",
   "execution_count": 38,
   "id": "d30eea90",
   "metadata": {},
   "outputs": [],
   "source": [
    "out=test/divisor"
   ]
  },
  {
   "cell_type": "code",
   "execution_count": null,
   "id": "09497330",
   "metadata": {},
   "outputs": [
    {
     "ename": "",
     "evalue": "",
     "output_type": "error",
     "traceback": [
      "\u001b[1;31mRunning cells with 'cudamode (Python 3.12.3)' requires the ipykernel package.\n",
      "\u001b[1;31mRun the following command to install 'ipykernel' into the Python environment. \n",
      "\u001b[1;31mCommand: 'conda install -n cudamode ipykernel --update-deps --force-reinstall'"
     ]
    }
   ],
   "source": [
    "import inspect\n",
    "\n",
    "# Replace `nn.ReLU` with the function you want to inspect\n",
    "print(inspect.getsource(torch.lerp))\n"
   ]
  },
  {
   "cell_type": "code",
   "execution_count": null,
   "id": "2c697af0",
   "metadata": {},
   "outputs": [],
   "source": []
  }
 ],
 "metadata": {
  "kernelspec": {
   "display_name": "cudamode",
   "language": "python",
   "name": "python3"
  },
  "language_info": {
   "codemirror_mode": {
    "name": "ipython",
    "version": 3
   },
   "file_extension": ".py",
   "mimetype": "text/x-python",
   "name": "python",
   "nbconvert_exporter": "python",
   "pygments_lexer": "ipython3",
   "version": "3.12.3"
  }
 },
 "nbformat": 4,
 "nbformat_minor": 5
}
